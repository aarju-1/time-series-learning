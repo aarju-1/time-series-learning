{
 "cells": [
  {
   "cell_type": "code",
   "execution_count": 1,
   "id": "cdd54760-7640-4891-a3fd-6ceeadda4c78",
   "metadata": {},
   "outputs": [],
   "source": [
    "import pandas as pd\n"
   ]
  },
  {
   "cell_type": "code",
   "execution_count": 36,
   "id": "9f40c995-d676-422f-a7d3-8e7d66901656",
   "metadata": {},
   "outputs": [],
   "source": [
    "data = pd.read_csv(r'Desktop/TIKATHALI RAINFALL.csv',parse_dates = ['dateandtime'])"
   ]
  },
  {
   "cell_type": "code",
   "execution_count": 37,
   "id": "d024bc4c-1a1b-418e-9acb-0a46caa94a07",
   "metadata": {},
   "outputs": [
    {
     "data": {
      "text/html": [
       "<div>\n",
       "<style scoped>\n",
       "    .dataframe tbody tr th:only-of-type {\n",
       "        vertical-align: middle;\n",
       "    }\n",
       "\n",
       "    .dataframe tbody tr th {\n",
       "        vertical-align: top;\n",
       "    }\n",
       "\n",
       "    .dataframe thead th {\n",
       "        text-align: right;\n",
       "    }\n",
       "</style>\n",
       "<table border=\"1\" class=\"dataframe\">\n",
       "  <thead>\n",
       "    <tr style=\"text-align: right;\">\n",
       "      <th></th>\n",
       "      <th>dateandtime</th>\n",
       "      <th>POINT</th>\n",
       "    </tr>\n",
       "  </thead>\n",
       "  <tbody>\n",
       "    <tr>\n",
       "      <th>0</th>\n",
       "      <td>2024-09-26 05:45:00</td>\n",
       "      <td>0.0</td>\n",
       "    </tr>\n",
       "    <tr>\n",
       "      <th>1</th>\n",
       "      <td>2024-09-26 05:55:00</td>\n",
       "      <td>0.0</td>\n",
       "    </tr>\n",
       "    <tr>\n",
       "      <th>2</th>\n",
       "      <td>2024-09-26 06:05:00</td>\n",
       "      <td>0.0</td>\n",
       "    </tr>\n",
       "    <tr>\n",
       "      <th>3</th>\n",
       "      <td>2024-09-26 06:15:00</td>\n",
       "      <td>0.0</td>\n",
       "    </tr>\n",
       "    <tr>\n",
       "      <th>4</th>\n",
       "      <td>2024-09-26 06:25:00</td>\n",
       "      <td>0.0</td>\n",
       "    </tr>\n",
       "    <tr>\n",
       "      <th>...</th>\n",
       "      <td>...</td>\n",
       "      <td>...</td>\n",
       "    </tr>\n",
       "    <tr>\n",
       "      <th>140</th>\n",
       "      <td>2024-09-27 05:05:00</td>\n",
       "      <td>7.0</td>\n",
       "    </tr>\n",
       "    <tr>\n",
       "      <th>141</th>\n",
       "      <td>2024-09-27 05:15:00</td>\n",
       "      <td>7.0</td>\n",
       "    </tr>\n",
       "    <tr>\n",
       "      <th>142</th>\n",
       "      <td>2024-09-27 05:25:00</td>\n",
       "      <td>7.4</td>\n",
       "    </tr>\n",
       "    <tr>\n",
       "      <th>143</th>\n",
       "      <td>2024-09-27 05:35:00</td>\n",
       "      <td>8.0</td>\n",
       "    </tr>\n",
       "    <tr>\n",
       "      <th>144</th>\n",
       "      <td>2024-09-27 05:45:00</td>\n",
       "      <td>8.6</td>\n",
       "    </tr>\n",
       "  </tbody>\n",
       "</table>\n",
       "<p>145 rows × 2 columns</p>\n",
       "</div>"
      ],
      "text/plain": [
       "            dateandtime  POINT\n",
       "0   2024-09-26 05:45:00    0.0\n",
       "1   2024-09-26 05:55:00    0.0\n",
       "2   2024-09-26 06:05:00    0.0\n",
       "3   2024-09-26 06:15:00    0.0\n",
       "4   2024-09-26 06:25:00    0.0\n",
       "..                  ...    ...\n",
       "140 2024-09-27 05:05:00    7.0\n",
       "141 2024-09-27 05:15:00    7.0\n",
       "142 2024-09-27 05:25:00    7.4\n",
       "143 2024-09-27 05:35:00    8.0\n",
       "144 2024-09-27 05:45:00    8.6\n",
       "\n",
       "[145 rows x 2 columns]"
      ]
     },
     "execution_count": 37,
     "metadata": {},
     "output_type": "execute_result"
    }
   ],
   "source": [
    "data"
   ]
  },
  {
   "cell_type": "code",
   "execution_count": 38,
   "id": "9585fb7a-2a9a-43eb-a7c1-a9304640b2d7",
   "metadata": {},
   "outputs": [
    {
     "data": {
      "text/plain": [
       "'Thursday'"
      ]
     },
     "execution_count": 38,
     "metadata": {},
     "output_type": "execute_result"
    }
   ],
   "source": [
    "data.loc[0,'dateandtime'].day_name()"
   ]
  },
  {
   "cell_type": "code",
   "execution_count": 40,
   "id": "586f7d4e-61f8-4e29-bf11-45c0820466b5",
   "metadata": {},
   "outputs": [
    {
     "data": {
      "text/plain": [
       "0      Thursday\n",
       "1      Thursday\n",
       "2      Thursday\n",
       "3      Thursday\n",
       "4      Thursday\n",
       "         ...   \n",
       "140      Friday\n",
       "141      Friday\n",
       "142      Friday\n",
       "143      Friday\n",
       "144      Friday\n",
       "Name: dateandtime, Length: 145, dtype: object"
      ]
     },
     "execution_count": 40,
     "metadata": {},
     "output_type": "execute_result"
    }
   ],
   "source": [
    "data['dateandtime'].dt.day_name()"
   ]
  },
  {
   "cell_type": "code",
   "execution_count": 42,
   "id": "8dfc7a5b-dac9-4532-9a4d-34e336f42f52",
   "metadata": {},
   "outputs": [
    {
     "data": {
      "text/html": [
       "<div>\n",
       "<style scoped>\n",
       "    .dataframe tbody tr th:only-of-type {\n",
       "        vertical-align: middle;\n",
       "    }\n",
       "\n",
       "    .dataframe tbody tr th {\n",
       "        vertical-align: top;\n",
       "    }\n",
       "\n",
       "    .dataframe thead th {\n",
       "        text-align: right;\n",
       "    }\n",
       "</style>\n",
       "<table border=\"1\" class=\"dataframe\">\n",
       "  <thead>\n",
       "    <tr style=\"text-align: right;\">\n",
       "      <th></th>\n",
       "      <th>dateandtime</th>\n",
       "      <th>POINT</th>\n",
       "      <th>DayOfWeek</th>\n",
       "    </tr>\n",
       "  </thead>\n",
       "  <tbody>\n",
       "    <tr>\n",
       "      <th>0</th>\n",
       "      <td>2024-09-26 05:45:00</td>\n",
       "      <td>0.0</td>\n",
       "      <td>Thursday</td>\n",
       "    </tr>\n",
       "    <tr>\n",
       "      <th>1</th>\n",
       "      <td>2024-09-26 05:55:00</td>\n",
       "      <td>0.0</td>\n",
       "      <td>Thursday</td>\n",
       "    </tr>\n",
       "    <tr>\n",
       "      <th>2</th>\n",
       "      <td>2024-09-26 06:05:00</td>\n",
       "      <td>0.0</td>\n",
       "      <td>Thursday</td>\n",
       "    </tr>\n",
       "    <tr>\n",
       "      <th>3</th>\n",
       "      <td>2024-09-26 06:15:00</td>\n",
       "      <td>0.0</td>\n",
       "      <td>Thursday</td>\n",
       "    </tr>\n",
       "    <tr>\n",
       "      <th>4</th>\n",
       "      <td>2024-09-26 06:25:00</td>\n",
       "      <td>0.0</td>\n",
       "      <td>Thursday</td>\n",
       "    </tr>\n",
       "    <tr>\n",
       "      <th>...</th>\n",
       "      <td>...</td>\n",
       "      <td>...</td>\n",
       "      <td>...</td>\n",
       "    </tr>\n",
       "    <tr>\n",
       "      <th>140</th>\n",
       "      <td>2024-09-27 05:05:00</td>\n",
       "      <td>7.0</td>\n",
       "      <td>Friday</td>\n",
       "    </tr>\n",
       "    <tr>\n",
       "      <th>141</th>\n",
       "      <td>2024-09-27 05:15:00</td>\n",
       "      <td>7.0</td>\n",
       "      <td>Friday</td>\n",
       "    </tr>\n",
       "    <tr>\n",
       "      <th>142</th>\n",
       "      <td>2024-09-27 05:25:00</td>\n",
       "      <td>7.4</td>\n",
       "      <td>Friday</td>\n",
       "    </tr>\n",
       "    <tr>\n",
       "      <th>143</th>\n",
       "      <td>2024-09-27 05:35:00</td>\n",
       "      <td>8.0</td>\n",
       "      <td>Friday</td>\n",
       "    </tr>\n",
       "    <tr>\n",
       "      <th>144</th>\n",
       "      <td>2024-09-27 05:45:00</td>\n",
       "      <td>8.6</td>\n",
       "      <td>Friday</td>\n",
       "    </tr>\n",
       "  </tbody>\n",
       "</table>\n",
       "<p>145 rows × 3 columns</p>\n",
       "</div>"
      ],
      "text/plain": [
       "            dateandtime  POINT DayOfWeek\n",
       "0   2024-09-26 05:45:00    0.0  Thursday\n",
       "1   2024-09-26 05:55:00    0.0  Thursday\n",
       "2   2024-09-26 06:05:00    0.0  Thursday\n",
       "3   2024-09-26 06:15:00    0.0  Thursday\n",
       "4   2024-09-26 06:25:00    0.0  Thursday\n",
       "..                  ...    ...       ...\n",
       "140 2024-09-27 05:05:00    7.0    Friday\n",
       "141 2024-09-27 05:15:00    7.0    Friday\n",
       "142 2024-09-27 05:25:00    7.4    Friday\n",
       "143 2024-09-27 05:35:00    8.0    Friday\n",
       "144 2024-09-27 05:45:00    8.6    Friday\n",
       "\n",
       "[145 rows x 3 columns]"
      ]
     },
     "execution_count": 42,
     "metadata": {},
     "output_type": "execute_result"
    }
   ],
   "source": [
    "data['DayOfWeek']= data['dateandtime'].dt.day_name()\n",
    "data"
   ]
  },
  {
   "cell_type": "code",
   "execution_count": 48,
   "id": "a031d203-8e8f-42f3-b4ac-6a191ff70f2a",
   "metadata": {},
   "outputs": [],
   "source": [
    "data.set_index('dateandtime',inplace = True)"
   ]
  },
  {
   "cell_type": "code",
   "execution_count": 50,
   "id": "7bfa468c-a1e6-4d8b-9542-87e549982cb2",
   "metadata": {},
   "outputs": [
    {
     "data": {
      "text/html": [
       "<div>\n",
       "<style scoped>\n",
       "    .dataframe tbody tr th:only-of-type {\n",
       "        vertical-align: middle;\n",
       "    }\n",
       "\n",
       "    .dataframe tbody tr th {\n",
       "        vertical-align: top;\n",
       "    }\n",
       "\n",
       "    .dataframe thead th {\n",
       "        text-align: right;\n",
       "    }\n",
       "</style>\n",
       "<table border=\"1\" class=\"dataframe\">\n",
       "  <thead>\n",
       "    <tr style=\"text-align: right;\">\n",
       "      <th></th>\n",
       "      <th>POINT</th>\n",
       "      <th>DayOfWeek</th>\n",
       "    </tr>\n",
       "    <tr>\n",
       "      <th>dateandtime</th>\n",
       "      <th></th>\n",
       "      <th></th>\n",
       "    </tr>\n",
       "  </thead>\n",
       "  <tbody>\n",
       "    <tr>\n",
       "      <th>2024-09-26 05:45:00</th>\n",
       "      <td>0.0</td>\n",
       "      <td>Thursday</td>\n",
       "    </tr>\n",
       "    <tr>\n",
       "      <th>2024-09-26 05:55:00</th>\n",
       "      <td>0.0</td>\n",
       "      <td>Thursday</td>\n",
       "    </tr>\n",
       "    <tr>\n",
       "      <th>2024-09-26 06:05:00</th>\n",
       "      <td>0.0</td>\n",
       "      <td>Thursday</td>\n",
       "    </tr>\n",
       "    <tr>\n",
       "      <th>2024-09-26 06:15:00</th>\n",
       "      <td>0.0</td>\n",
       "      <td>Thursday</td>\n",
       "    </tr>\n",
       "    <tr>\n",
       "      <th>2024-09-26 06:25:00</th>\n",
       "      <td>0.0</td>\n",
       "      <td>Thursday</td>\n",
       "    </tr>\n",
       "    <tr>\n",
       "      <th>...</th>\n",
       "      <td>...</td>\n",
       "      <td>...</td>\n",
       "    </tr>\n",
       "    <tr>\n",
       "      <th>2024-09-27 05:05:00</th>\n",
       "      <td>7.0</td>\n",
       "      <td>Friday</td>\n",
       "    </tr>\n",
       "    <tr>\n",
       "      <th>2024-09-27 05:15:00</th>\n",
       "      <td>7.0</td>\n",
       "      <td>Friday</td>\n",
       "    </tr>\n",
       "    <tr>\n",
       "      <th>2024-09-27 05:25:00</th>\n",
       "      <td>7.4</td>\n",
       "      <td>Friday</td>\n",
       "    </tr>\n",
       "    <tr>\n",
       "      <th>2024-09-27 05:35:00</th>\n",
       "      <td>8.0</td>\n",
       "      <td>Friday</td>\n",
       "    </tr>\n",
       "    <tr>\n",
       "      <th>2024-09-27 05:45:00</th>\n",
       "      <td>8.6</td>\n",
       "      <td>Friday</td>\n",
       "    </tr>\n",
       "  </tbody>\n",
       "</table>\n",
       "<p>145 rows × 2 columns</p>\n",
       "</div>"
      ],
      "text/plain": [
       "                     POINT DayOfWeek\n",
       "dateandtime                         \n",
       "2024-09-26 05:45:00    0.0  Thursday\n",
       "2024-09-26 05:55:00    0.0  Thursday\n",
       "2024-09-26 06:05:00    0.0  Thursday\n",
       "2024-09-26 06:15:00    0.0  Thursday\n",
       "2024-09-26 06:25:00    0.0  Thursday\n",
       "...                    ...       ...\n",
       "2024-09-27 05:05:00    7.0    Friday\n",
       "2024-09-27 05:15:00    7.0    Friday\n",
       "2024-09-27 05:25:00    7.4    Friday\n",
       "2024-09-27 05:35:00    8.0    Friday\n",
       "2024-09-27 05:45:00    8.6    Friday\n",
       "\n",
       "[145 rows x 2 columns]"
      ]
     },
     "execution_count": 50,
     "metadata": {},
     "output_type": "execute_result"
    }
   ],
   "source": [
    "data"
   ]
  },
  {
   "cell_type": "code",
   "execution_count": 63,
   "id": "403386b2-38db-45ac-aec6-8e3c6992a3c4",
   "metadata": {},
   "outputs": [
    {
     "data": {
      "text/plain": [
       "8.6"
      ]
     },
     "execution_count": 63,
     "metadata": {},
     "output_type": "execute_result"
    }
   ],
   "source": [
    "data.loc['2024-09-27']['POINT'].max()"
   ]
  },
  {
   "cell_type": "code",
   "execution_count": 76,
   "id": "0ac0db33-659d-4db3-9ee4-5475ad6415a5",
   "metadata": {},
   "outputs": [
    {
     "data": {
      "text/plain": [
       "dateandtime\n",
       "2024-09-26 05:45:00    0.0\n",
       "2024-09-26 06:05:00    0.0\n",
       "2024-09-26 06:25:00    0.0\n",
       "2024-09-26 06:45:00    0.0\n",
       "2024-09-26 07:05:00    0.0\n",
       "                      ... \n",
       "2024-09-27 04:25:00    6.6\n",
       "2024-09-27 04:45:00    6.8\n",
       "2024-09-27 05:05:00    7.0\n",
       "2024-09-27 05:25:00    8.0\n",
       "2024-09-27 05:45:00    8.6\n",
       "Freq: 20min, Name: POINT, Length: 73, dtype: float64"
      ]
     },
     "execution_count": 76,
     "metadata": {},
     "output_type": "execute_result"
    }
   ],
   "source": [
    "points = data['POINT'].resample('20min',offset = '5min').max()\n",
    "points"
   ]
  },
  {
   "cell_type": "code",
   "execution_count": 74,
   "id": "8ce69098-6fe2-4842-9d2e-9238414b3310",
   "metadata": {},
   "outputs": [
    {
     "data": {
      "text/plain": [
       "2.2"
      ]
     },
     "execution_count": 74,
     "metadata": {},
     "output_type": "execute_result"
    }
   ],
   "source": [
    "data.loc['2024-09-26']['POINT'].max()"
   ]
  },
  {
   "cell_type": "code",
   "execution_count": 78,
   "id": "cc487428-e898-4920-b4d7-93ccd8c2b3b0",
   "metadata": {},
   "outputs": [],
   "source": [
    "%matplotlib inline"
   ]
  },
  {
   "cell_type": "code",
   "execution_count": 79,
   "id": "0728c588-f2dc-4e44-bd40-f60cf6ec9023",
   "metadata": {},
   "outputs": [
    {
     "data": {
      "text/plain": [
       "<Axes: xlabel='dateandtime'>"
      ]
     },
     "execution_count": 79,
     "metadata": {},
     "output_type": "execute_result"
    },
    {
     "data": {
      "image/png": "[encoded data removed]",
      "text/plain": [
       "<Figure size 640x480 with 1 Axes>"
      ]
     },
     "metadata": {},
     "output_type": "display_data"
    }
   ],
   "source": [
    "points.plot()"
   ]
  },
  {
   "cell_type": "code",
   "execution_count": null,
   "id": "809f4d7a-dd1e-4399-9377-59e209077c61",
   "metadata": {},
   "outputs": [],
   "source": []
  },
  {
   "cell_type": "code",
   "execution_count": null,
   "id": "d1f59060-3562-460f-9a4b-4416aadbd7dc",
   "metadata": {},
   "outputs": [],
   "source": []
  },
  {
   "cell_type": "code",
   "execution_count": null,
   "id": "9a0dd59c-167d-49a1-8246-85039e157d1c",
   "metadata": {},
   "outputs": [],
   "source": []
  },
  {
   "cell_type": "code",
   "execution_count": null,
   "id": "aab51f21-0807-4a4c-826e-a355616e0617",
   "metadata": {},
   "outputs": [],
   "source": []
  },
  {
   "cell_type": "code",
   "execution_count": null,
   "id": "a6b62804-b759-497b-ba87-0dc0415e71e0",
   "metadata": {},
   "outputs": [],
   "source": []
  }
 ],
 "metadata": {
  "kernelspec": {
   "display_name": "Python 3 (ipykernel)",
   "language": "python",
   "name": "python3"
  },
  "language_info": {
   "codemirror_mode": {
    "name": "ipython",
    "version": 3
   },
   "file_extension": ".py",
   "mimetype": "text/x-python",
   "name": "python",
   "nbconvert_exporter": "python",
   "pygments_lexer": "ipython3",
   "version": "3.10.13"
  }
 },
 "nbformat": 4,
 "nbformat_minor": 5
}
